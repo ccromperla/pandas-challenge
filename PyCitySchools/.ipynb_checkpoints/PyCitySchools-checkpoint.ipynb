{
 "cells": [
  {
   "cell_type": "code",
   "execution_count": null,
   "metadata": {
    "scrolled": false
   },
   "outputs": [],
   "source": [
    "import pandas as pd\n",
    "\n",
    "school_data_to_load = \"Resources/schools_complete.csv\"\n",
    "student_data_to_load = \"Resources/students_complete.csv\"\n",
    "\n",
    "school_data = pd.read_csv(school_data_to_load)\n",
    "student_data = pd.read_csv(student_data_to_load)\n",
    "\n",
    "school_data_merged = pd.merge(student_data, school_data, how=\"left\", on=[\"school_name\",\"school_name\"])\n",
    "school_data_merged.head(10)\n"
   ]
  },
  {
   "cell_type": "code",
   "execution_count": null,
   "metadata": {},
   "outputs": [],
   "source": [
    "# school_data_merged.columns\n",
    "# school_data_merged = student_data_merged.rename(columns={\"student_name\":\"Student Name\",\n",
    "#                                                         \"school_name\":\"School Name\",\n",
    "#                                                         \"reading_score\": \"Reading Score\",\n",
    "#                                                         \"math_score\": \"Math Score\"})"
   ]
  },
  {
   "cell_type": "code",
   "execution_count": null,
   "metadata": {},
   "outputs": [],
   "source": [
    "schools = school_data_merged[\"school_name\"].unique()\n",
    "total_schools = len(schools)\n",
    "print(total_schools)\n",
    "\n",
    "total_students = school_data_merged[\"student_name\"].count()\n",
    "print(total_students)\n",
    "\n",
    "budget = school_data_merged[\"budget\"].unique()\n",
    "total_budget = budget.sum()\n",
    "print(total_budget)\n",
    "\n",
    "average_math = school_data_merged[\"math_score\"].mean()\n",
    "print(average_math)\n",
    "\n",
    "average_reading = school_data_merged[\"reading_score\"].mean()\n",
    "print(average_reading)\n",
    "\n",
    "math_score_int = school_data_merged.loc[:,\"math_score\"].astype(int)\n",
    "\n",
    "students_passing_math = 0\n",
    "for i in range(len(math_score_int)):\n",
    "    if math_score_int[i] >= 70:\n",
    "        students_passing_math +=1\n",
    "\n",
    "percentage_passing_math = (students_passing_math/total_students) * 100\n",
    "print(percentage_passing_math)\n",
    "\n",
    "reading_score_int = school_data_merged.loc[:,\"reading_score\"].astype(int)\n",
    "\n",
    "students_passing_reading = 0\n",
    "\n",
    "for i in range(len(reading_score_int)):\n",
    "    if reading_score_int[i] >= 70:\n",
    "        students_passing_reading +=1\n",
    "\n",
    "percentage_passing_reading = (students_passing_reading/total_students) * 100\n",
    "print(percentage_passing_reading)\n",
    "\n",
    "math_and_reading = school_data_merged.loc[[]:,\"math_score\"].astype(int) | school_data_merged.loc[:,\"reading_score\"].astype(int)]"
   ]
  },
  {
   "cell_type": "code",
   "execution_count": null,
   "metadata": {},
   "outputs": [],
   "source": [
    "# for i in range(len(a)):\n",
    "#     if a[i] >= 70:\n",
    "#         students_passing_both += 1\n",
    "#     print(students_passing_both)\n",
    "\n",
    "# math_and_reading = school_data_merged.loc[(school_data_merged[\"math_score\"].astype(int) \n",
    "#  | school_data_merged.loc[:,\"reading_score\"].astype(int)\n",
    "# #print(math_and_reading)\n",
    "\n",
    "#only_billy_and_peter = df.loc[(df[\"first_name\"] == \"Billy\") | (df[\"first_name\"] == \"Peter\"), :]\n",
    "# students_passing_math = school_data_merged[\"math_score\"]\n",
    "# students_passing_math = school_data_merged.loc[(school_data_merged[:,\"math_score\"].astype[int] >= 70)]\n",
    "# print(students_passing_math)\n",
    "# converted_ufo_df[\"duration (seconds)\"] = converted_ufo_df.loc[:, \"duration (seconds)\"].astype(float)"
   ]
  },
  {
   "cell_type": "code",
   "execution_count": null,
   "metadata": {},
   "outputs": [],
   "source": []
  }
 ],
 "metadata": {
  "kernelspec": {
   "display_name": "Python [conda env:PythonData]",
   "language": "python",
   "name": "conda-env-PythonData-py"
  },
  "language_info": {
   "codemirror_mode": {
    "name": "ipython",
    "version": 3
   },
   "file_extension": ".py",
   "mimetype": "text/x-python",
   "name": "python",
   "nbconvert_exporter": "python",
   "pygments_lexer": "ipython3",
   "version": "3.6.10"
  }
 },
 "nbformat": 4,
 "nbformat_minor": 4
}
